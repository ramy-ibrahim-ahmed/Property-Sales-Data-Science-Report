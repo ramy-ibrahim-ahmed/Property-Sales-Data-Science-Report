{
 "cells": [
  {
   "cell_type": "code",
   "execution_count": 1,
   "metadata": {},
   "outputs": [
    {
     "name": "stdout",
     "output_type": "stream",
     "text": [
      "<class 'pandas.core.frame.DataFrame'>\n",
      "RangeIndex: 34523 entries, 0 to 34522\n",
      "Data columns (total 19 columns):\n",
      " #   Column        Non-Null Count  Dtype  \n",
      "---  ------        --------------  -----  \n",
      " 0   PropType      34520 non-null  object \n",
      " 1   Taxkey        34523 non-null  int64  \n",
      " 2   Address       34523 non-null  object \n",
      " 3   CondoProject  6656 non-null   object \n",
      " 4   District      34523 non-null  int64  \n",
      " 5   Nbhd          34523 non-null  int64  \n",
      " 6   Style         34517 non-null  object \n",
      " 7   Extwall       24624 non-null  object \n",
      " 8   Stories       34523 non-null  float64\n",
      " 9   Year_Built    34523 non-null  int64  \n",
      " 10  Nr_of_rms     34523 non-null  int64  \n",
      " 11  Fin_sqft      34523 non-null  int64  \n",
      " 12  Units         34523 non-null  int64  \n",
      " 13  Bdrms         34523 non-null  int64  \n",
      " 14  Fbath         34523 non-null  int64  \n",
      " 15  Hbath         34523 non-null  int64  \n",
      " 16  Lotsize       34523 non-null  int64  \n",
      " 17  Sale_date     34523 non-null  object \n",
      " 18  Sale_price    34523 non-null  int64  \n",
      "dtypes: float64(1), int64(12), object(6)\n",
      "memory usage: 5.0+ MB\n"
     ]
    }
   ],
   "source": [
    "import pandas as pd\n",
    "\n",
    "data = pd.read_csv(\"2002-2018-property-sales-data.csv\")\n",
    "data.info()"
   ]
  },
  {
   "cell_type": "code",
   "execution_count": 2,
   "metadata": {},
   "outputs": [
    {
     "data": {
      "text/plain": [
       "PropType            3\n",
       "Taxkey              0\n",
       "Address             0\n",
       "CondoProject    27867\n",
       "District            0\n",
       "Nbhd                0\n",
       "Style               6\n",
       "Extwall          9899\n",
       "Stories             0\n",
       "Year_Built          0\n",
       "Nr_of_rms           0\n",
       "Fin_sqft            0\n",
       "Units               0\n",
       "Bdrms               0\n",
       "Fbath               0\n",
       "Hbath               0\n",
       "Lotsize             0\n",
       "Sale_date           0\n",
       "Sale_price          0\n",
       "dtype: int64"
      ]
     },
     "execution_count": 2,
     "metadata": {},
     "output_type": "execute_result"
    }
   ],
   "source": [
    "data.isna().sum()"
   ]
  },
  {
   "cell_type": "code",
   "execution_count": null,
   "metadata": {},
   "outputs": [],
   "source": [
    "data = data.drop(columns=[\"CondoProject\", \"Extwall\"])\n",
    "data = data.dropna()"
   ]
  },
  {
   "cell_type": "code",
   "execution_count": 4,
   "metadata": {},
   "outputs": [
    {
     "data": {
      "text/html": [
       "<div>\n",
       "<style scoped>\n",
       "    .dataframe tbody tr th:only-of-type {\n",
       "        vertical-align: middle;\n",
       "    }\n",
       "\n",
       "    .dataframe tbody tr th {\n",
       "        vertical-align: top;\n",
       "    }\n",
       "\n",
       "    .dataframe thead th {\n",
       "        text-align: right;\n",
       "    }\n",
       "</style>\n",
       "<table border=\"1\" class=\"dataframe\">\n",
       "  <thead>\n",
       "    <tr style=\"text-align: right;\">\n",
       "      <th></th>\n",
       "      <th>PropType</th>\n",
       "      <th>Address</th>\n",
       "      <th>Style</th>\n",
       "      <th>Sale_date</th>\n",
       "    </tr>\n",
       "  </thead>\n",
       "  <tbody>\n",
       "    <tr>\n",
       "      <th>0</th>\n",
       "      <td>Commercial</td>\n",
       "      <td>2628 N 6TH ST</td>\n",
       "      <td>Commercial Exempt</td>\n",
       "      <td>2002-01</td>\n",
       "    </tr>\n",
       "    <tr>\n",
       "      <th>1</th>\n",
       "      <td>Commercial</td>\n",
       "      <td>1363 N PROSPECT AV</td>\n",
       "      <td>Mansions With Commercial Usage</td>\n",
       "      <td>2002-01</td>\n",
       "    </tr>\n",
       "    <tr>\n",
       "      <th>2</th>\n",
       "      <td>Commercial</td>\n",
       "      <td>617 S 94TH ST</td>\n",
       "      <td>Service Building</td>\n",
       "      <td>2002-01</td>\n",
       "    </tr>\n",
       "    <tr>\n",
       "      <th>3</th>\n",
       "      <td>Commercial</td>\n",
       "      <td>3624 W SILVER SPRING DR</td>\n",
       "      <td>Store Bldg - Multi Story (Store &amp; Apt, Store &amp; O</td>\n",
       "      <td>2002-01</td>\n",
       "    </tr>\n",
       "    <tr>\n",
       "      <th>4</th>\n",
       "      <td>Commercial</td>\n",
       "      <td>3830 W LISBON AV</td>\n",
       "      <td>Store Bldg - Multi Story (Store &amp; Apt, Store &amp; O</td>\n",
       "      <td>2002-01</td>\n",
       "    </tr>\n",
       "  </tbody>\n",
       "</table>\n",
       "</div>"
      ],
      "text/plain": [
       "     PropType                  Address  \\\n",
       "0  Commercial            2628 N 6TH ST   \n",
       "1  Commercial       1363 N PROSPECT AV   \n",
       "2  Commercial            617 S 94TH ST   \n",
       "3  Commercial  3624 W SILVER SPRING DR   \n",
       "4  Commercial         3830 W LISBON AV   \n",
       "\n",
       "                                              Style Sale_date  \n",
       "0                                 Commercial Exempt   2002-01  \n",
       "1                    Mansions With Commercial Usage   2002-01  \n",
       "2                                  Service Building   2002-01  \n",
       "3  Store Bldg - Multi Story (Store & Apt, Store & O   2002-01  \n",
       "4  Store Bldg - Multi Story (Store & Apt, Store & O   2002-01  "
      ]
     },
     "execution_count": 4,
     "metadata": {},
     "output_type": "execute_result"
    }
   ],
   "source": [
    "data_cat = data.select_dtypes(include=\"object\")\n",
    "data_cat.head()"
   ]
  },
  {
   "cell_type": "code",
   "execution_count": 5,
   "metadata": {},
   "outputs": [
    {
     "data": {
      "text/plain": [
       "PropType         5\n",
       "Address      26842\n",
       "Style          386\n",
       "Sale_date      204\n",
       "dtype: int64"
      ]
     },
     "execution_count": 5,
     "metadata": {},
     "output_type": "execute_result"
    }
   ],
   "source": [
    "data_cat.nunique()"
   ]
  },
  {
   "cell_type": "code",
   "execution_count": 6,
   "metadata": {},
   "outputs": [
    {
     "data": {
      "text/plain": [
       "PropType\n",
       "Residential     24634\n",
       "Condominium      5709\n",
       "Commercial       2922\n",
       "Lg Apartment     1017\n",
       "Vacant Land       232\n",
       "Name: count, dtype: int64"
      ]
     },
     "execution_count": 6,
     "metadata": {},
     "output_type": "execute_result"
    }
   ],
   "source": [
    "data[\"PropType\"].value_counts()"
   ]
  },
  {
   "cell_type": "code",
   "execution_count": 7,
   "metadata": {},
   "outputs": [],
   "source": [
    "data = data[(data[\"PropType\"] == \"Residential\") | (data[\"PropType\"] == \"Commercial\")]"
   ]
  },
  {
   "cell_type": "code",
   "execution_count": 8,
   "metadata": {},
   "outputs": [
    {
     "data": {
      "text/plain": [
       "PropType\n",
       "1    24634\n",
       "0     2922\n",
       "Name: count, dtype: int64"
      ]
     },
     "execution_count": 8,
     "metadata": {},
     "output_type": "execute_result"
    }
   ],
   "source": [
    "data[\"PropType\"] = data[\"PropType\"].apply(lambda x: 1 if x == \"Residential\" else 0)\n",
    "data[\"PropType\"].value_counts()"
   ]
  },
  {
   "cell_type": "code",
   "execution_count": 9,
   "metadata": {},
   "outputs": [
    {
     "data": {
      "text/plain": [
       "Address_engineered\n",
       "ST    17129\n",
       "AV     7222\n",
       "PL      964\n",
       "DR      702\n",
       "BL      435\n",
       "CT      390\n",
       "RD      373\n",
       "PK      100\n",
       "LA       76\n",
       "TR       74\n",
       "CR       53\n",
       "WA       21\n",
       "Y        16\n",
       "L         1\n",
       "Name: count, dtype: int64"
      ]
     },
     "execution_count": 9,
     "metadata": {},
     "output_type": "execute_result"
    }
   ],
   "source": [
    "data[\"Address_engineered\"] = data[\"Address\"].str[-2:]\n",
    "data[\"Address_engineered\"].value_counts()"
   ]
  },
  {
   "cell_type": "code",
   "execution_count": 10,
   "metadata": {},
   "outputs": [
    {
     "data": {
      "text/plain": [
       "Address_engineered\n",
       "ST                    17129\n",
       "AV                     7222\n",
       "PL                      964\n",
       "DR                      702\n",
       "BL                      435\n",
       "CT                      390\n",
       "RD                      373\n",
       "not_common_address      241\n",
       "PK                      100\n",
       "Name: count, dtype: int64"
      ]
     },
     "execution_count": 10,
     "metadata": {},
     "output_type": "execute_result"
    }
   ],
   "source": [
    "top_address = [\"L \", \"Y \", \"WA\", \"CR\", \"TR\", \"LA\"]\n",
    "data[\"Address_engineered\"] = data[\"Address_engineered\"].apply(\n",
    "    lambda x: x if x not in top_address else \"not_common_address\"\n",
    ")\n",
    "data[\"Address_engineered\"].value_counts()"
   ]
  },
  {
   "cell_type": "code",
   "execution_count": 11,
   "metadata": {},
   "outputs": [
    {
     "data": {
      "text/html": [
       "<div>\n",
       "<style scoped>\n",
       "    .dataframe tbody tr th:only-of-type {\n",
       "        vertical-align: middle;\n",
       "    }\n",
       "\n",
       "    .dataframe tbody tr th {\n",
       "        vertical-align: top;\n",
       "    }\n",
       "\n",
       "    .dataframe thead th {\n",
       "        text-align: right;\n",
       "    }\n",
       "</style>\n",
       "<table border=\"1\" class=\"dataframe\">\n",
       "  <thead>\n",
       "    <tr style=\"text-align: right;\">\n",
       "      <th></th>\n",
       "      <th>AV</th>\n",
       "      <th>BL</th>\n",
       "      <th>CT</th>\n",
       "      <th>DR</th>\n",
       "      <th>PK</th>\n",
       "      <th>PL</th>\n",
       "      <th>RD</th>\n",
       "      <th>ST</th>\n",
       "      <th>not_common_address</th>\n",
       "    </tr>\n",
       "  </thead>\n",
       "  <tbody>\n",
       "    <tr>\n",
       "      <th>0</th>\n",
       "      <td>0</td>\n",
       "      <td>0</td>\n",
       "      <td>0</td>\n",
       "      <td>0</td>\n",
       "      <td>0</td>\n",
       "      <td>0</td>\n",
       "      <td>0</td>\n",
       "      <td>1</td>\n",
       "      <td>0</td>\n",
       "    </tr>\n",
       "    <tr>\n",
       "      <th>1</th>\n",
       "      <td>1</td>\n",
       "      <td>0</td>\n",
       "      <td>0</td>\n",
       "      <td>0</td>\n",
       "      <td>0</td>\n",
       "      <td>0</td>\n",
       "      <td>0</td>\n",
       "      <td>0</td>\n",
       "      <td>0</td>\n",
       "    </tr>\n",
       "    <tr>\n",
       "      <th>2</th>\n",
       "      <td>0</td>\n",
       "      <td>0</td>\n",
       "      <td>0</td>\n",
       "      <td>0</td>\n",
       "      <td>0</td>\n",
       "      <td>0</td>\n",
       "      <td>0</td>\n",
       "      <td>1</td>\n",
       "      <td>0</td>\n",
       "    </tr>\n",
       "    <tr>\n",
       "      <th>3</th>\n",
       "      <td>0</td>\n",
       "      <td>0</td>\n",
       "      <td>0</td>\n",
       "      <td>1</td>\n",
       "      <td>0</td>\n",
       "      <td>0</td>\n",
       "      <td>0</td>\n",
       "      <td>0</td>\n",
       "      <td>0</td>\n",
       "    </tr>\n",
       "    <tr>\n",
       "      <th>4</th>\n",
       "      <td>1</td>\n",
       "      <td>0</td>\n",
       "      <td>0</td>\n",
       "      <td>0</td>\n",
       "      <td>0</td>\n",
       "      <td>0</td>\n",
       "      <td>0</td>\n",
       "      <td>0</td>\n",
       "      <td>0</td>\n",
       "    </tr>\n",
       "  </tbody>\n",
       "</table>\n",
       "</div>"
      ],
      "text/plain": [
       "   AV  BL  CT  DR  PK  PL  RD  ST  not_common_address\n",
       "0   0   0   0   0   0   0   0   1                   0\n",
       "1   1   0   0   0   0   0   0   0                   0\n",
       "2   0   0   0   0   0   0   0   1                   0\n",
       "3   0   0   0   1   0   0   0   0                   0\n",
       "4   1   0   0   0   0   0   0   0                   0"
      ]
     },
     "execution_count": 11,
     "metadata": {},
     "output_type": "execute_result"
    }
   ],
   "source": [
    "data_to_1hot = data[\"Address_engineered\"]\n",
    "data_to_1hot = pd.get_dummies(data_to_1hot).astype(\"int\")\n",
    "data_to_1hot.head()"
   ]
  },
  {
   "cell_type": "code",
   "execution_count": 12,
   "metadata": {},
   "outputs": [],
   "source": [
    "data = data.drop(columns=[\"Address\", \"Address_engineered\"])\n",
    "data = pd.concat([data, data_to_1hot], axis=1)"
   ]
  },
  {
   "cell_type": "code",
   "execution_count": 13,
   "metadata": {},
   "outputs": [
    {
     "data": {
      "text/plain": [
       "Style\n",
       "Ranch                                          7412\n",
       "Cape Cod                                       5159\n",
       "Residence O/S                                  2805\n",
       "Milwaukee Bungalow                             1971\n",
       "Colonial                                       1640\n",
       "                                               ... \n",
       "Svc Station wo Conv Store                         1\n",
       "Svc Station w Conv and Restaurant                 1\n",
       "Super Regional Shopping Center                    1\n",
       "**                                                1\n",
       "Svc Station w Conv, Carwash, and Restaurant       1\n",
       "Name: count, Length: 99, dtype: int64"
      ]
     },
     "execution_count": 13,
     "metadata": {},
     "output_type": "execute_result"
    }
   ],
   "source": [
    "data[\"Style\"].value_counts()"
   ]
  },
  {
   "cell_type": "code",
   "execution_count": 14,
   "metadata": {},
   "outputs": [
    {
     "data": {
      "text/plain": [
       "Style\n",
       "not_common_style      8569\n",
       "Ranch                 7412\n",
       "Cape Cod              5159\n",
       "Residence O/S         2805\n",
       "Milwaukee Bungalow    1971\n",
       "Colonial              1640\n",
       "Name: count, dtype: int64"
      ]
     },
     "execution_count": 14,
     "metadata": {},
     "output_type": "execute_result"
    }
   ],
   "source": [
    "col = \"Style\"\n",
    "top_5_style = [\n",
    "    \"Ranch\",\n",
    "    \"Cape Cod\",\n",
    "    \"Residence O/S\",\n",
    "    \"Milwaukee Bungalow\",\n",
    "    \"Colonial\",\n",
    "]\n",
    "data[col] = data[col].apply(lambda x: x if x in top_5_style else \"not_common_style\")\n",
    "data[col].value_counts()"
   ]
  },
  {
   "cell_type": "code",
   "execution_count": 15,
   "metadata": {},
   "outputs": [
    {
     "data": {
      "text/html": [
       "<div>\n",
       "<style scoped>\n",
       "    .dataframe tbody tr th:only-of-type {\n",
       "        vertical-align: middle;\n",
       "    }\n",
       "\n",
       "    .dataframe tbody tr th {\n",
       "        vertical-align: top;\n",
       "    }\n",
       "\n",
       "    .dataframe thead th {\n",
       "        text-align: right;\n",
       "    }\n",
       "</style>\n",
       "<table border=\"1\" class=\"dataframe\">\n",
       "  <thead>\n",
       "    <tr style=\"text-align: right;\">\n",
       "      <th></th>\n",
       "      <th>Cape Cod</th>\n",
       "      <th>Colonial</th>\n",
       "      <th>Milwaukee Bungalow</th>\n",
       "      <th>Ranch</th>\n",
       "      <th>Residence O/S</th>\n",
       "      <th>not_common_style</th>\n",
       "    </tr>\n",
       "  </thead>\n",
       "  <tbody>\n",
       "    <tr>\n",
       "      <th>0</th>\n",
       "      <td>0</td>\n",
       "      <td>0</td>\n",
       "      <td>0</td>\n",
       "      <td>0</td>\n",
       "      <td>0</td>\n",
       "      <td>1</td>\n",
       "    </tr>\n",
       "    <tr>\n",
       "      <th>1</th>\n",
       "      <td>0</td>\n",
       "      <td>0</td>\n",
       "      <td>0</td>\n",
       "      <td>0</td>\n",
       "      <td>0</td>\n",
       "      <td>1</td>\n",
       "    </tr>\n",
       "    <tr>\n",
       "      <th>2</th>\n",
       "      <td>0</td>\n",
       "      <td>0</td>\n",
       "      <td>0</td>\n",
       "      <td>0</td>\n",
       "      <td>0</td>\n",
       "      <td>1</td>\n",
       "    </tr>\n",
       "    <tr>\n",
       "      <th>3</th>\n",
       "      <td>0</td>\n",
       "      <td>0</td>\n",
       "      <td>0</td>\n",
       "      <td>0</td>\n",
       "      <td>0</td>\n",
       "      <td>1</td>\n",
       "    </tr>\n",
       "    <tr>\n",
       "      <th>4</th>\n",
       "      <td>0</td>\n",
       "      <td>0</td>\n",
       "      <td>0</td>\n",
       "      <td>0</td>\n",
       "      <td>0</td>\n",
       "      <td>1</td>\n",
       "    </tr>\n",
       "  </tbody>\n",
       "</table>\n",
       "</div>"
      ],
      "text/plain": [
       "   Cape Cod  Colonial  Milwaukee Bungalow  Ranch  Residence O/S  \\\n",
       "0         0         0                   0      0              0   \n",
       "1         0         0                   0      0              0   \n",
       "2         0         0                   0      0              0   \n",
       "3         0         0                   0      0              0   \n",
       "4         0         0                   0      0              0   \n",
       "\n",
       "   not_common_style  \n",
       "0                 1  \n",
       "1                 1  \n",
       "2                 1  \n",
       "3                 1  \n",
       "4                 1  "
      ]
     },
     "execution_count": 15,
     "metadata": {},
     "output_type": "execute_result"
    }
   ],
   "source": [
    "data_to_1hot = data[\"Style\"]\n",
    "data_to_1hot = pd.get_dummies(data_to_1hot).astype(\"int\")\n",
    "data_to_1hot.head()"
   ]
  },
  {
   "cell_type": "code",
   "execution_count": 16,
   "metadata": {},
   "outputs": [],
   "source": [
    "data = data.drop(columns=[\"Style\"])\n",
    "data = pd.concat([data, data_to_1hot], axis=1)"
   ]
  },
  {
   "cell_type": "code",
   "execution_count": 17,
   "metadata": {},
   "outputs": [
    {
     "data": {
      "text/html": [
       "<div>\n",
       "<style scoped>\n",
       "    .dataframe tbody tr th:only-of-type {\n",
       "        vertical-align: middle;\n",
       "    }\n",
       "\n",
       "    .dataframe tbody tr th {\n",
       "        vertical-align: top;\n",
       "    }\n",
       "\n",
       "    .dataframe thead th {\n",
       "        text-align: right;\n",
       "    }\n",
       "</style>\n",
       "<table border=\"1\" class=\"dataframe\">\n",
       "  <thead>\n",
       "    <tr style=\"text-align: right;\">\n",
       "      <th></th>\n",
       "      <th>sale_year</th>\n",
       "      <th>sale_month</th>\n",
       "    </tr>\n",
       "  </thead>\n",
       "  <tbody>\n",
       "    <tr>\n",
       "      <th>0</th>\n",
       "      <td>2002</td>\n",
       "      <td>1</td>\n",
       "    </tr>\n",
       "    <tr>\n",
       "      <th>1</th>\n",
       "      <td>2002</td>\n",
       "      <td>1</td>\n",
       "    </tr>\n",
       "    <tr>\n",
       "      <th>2</th>\n",
       "      <td>2002</td>\n",
       "      <td>1</td>\n",
       "    </tr>\n",
       "    <tr>\n",
       "      <th>3</th>\n",
       "      <td>2002</td>\n",
       "      <td>1</td>\n",
       "    </tr>\n",
       "    <tr>\n",
       "      <th>4</th>\n",
       "      <td>2002</td>\n",
       "      <td>1</td>\n",
       "    </tr>\n",
       "  </tbody>\n",
       "</table>\n",
       "</div>"
      ],
      "text/plain": [
       "   sale_year  sale_month\n",
       "0       2002           1\n",
       "1       2002           1\n",
       "2       2002           1\n",
       "3       2002           1\n",
       "4       2002           1"
      ]
     },
     "execution_count": 17,
     "metadata": {},
     "output_type": "execute_result"
    }
   ],
   "source": [
    "data[\"Sale_date\"] = pd.to_datetime(data[\"Sale_date\"], errors=\"coerce\")\n",
    "\n",
    "data[\"sale_year\"] = data[\"Sale_date\"].dt.year\n",
    "data[\"sale_month\"] = data[\"Sale_date\"].dt.month\n",
    "data = data.drop(columns=[\"Sale_date\"])\n",
    "data[[\"sale_year\", \"sale_month\"]].head()"
   ]
  },
  {
   "cell_type": "code",
   "execution_count": 18,
   "metadata": {},
   "outputs": [],
   "source": [
    "from sklearn.preprocessing import MinMaxScaler\n",
    "\n",
    "scaler = MinMaxScaler()\n",
    "data = pd.DataFrame(scaler.fit_transform(data), columns=data.columns)"
   ]
  },
  {
   "cell_type": "code",
   "execution_count": null,
   "metadata": {},
   "outputs": [],
   "source": [
    "from sklearn.preprocessing import MinMaxScaler\n",
    "\n",
    "scaler = MinMaxScaler()\n",
    "data = pd.DataFrame(scaler.fit_transform(data), columns=data.columns)"
   ]
  },
  {
   "cell_type": "code",
   "execution_count": 20,
   "metadata": {},
   "outputs": [
    {
     "data": {
      "text/plain": [
       "Taxkey                0\n",
       "District              0\n",
       "Nbhd                  0\n",
       "Stories               0\n",
       "Year_Built            0\n",
       "Nr_of_rms             0\n",
       "Fin_sqft              0\n",
       "Units                 0\n",
       "Bdrms                 0\n",
       "Fbath                 0\n",
       "Hbath                 0\n",
       "Lotsize               0\n",
       "Sale_price            0\n",
       "AV                    0\n",
       "BL                    0\n",
       "CT                    0\n",
       "DR                    0\n",
       "PK                    0\n",
       "PL                    0\n",
       "RD                    0\n",
       "ST                    0\n",
       "not_common_address    0\n",
       "Cape Cod              0\n",
       "Colonial              0\n",
       "Milwaukee Bungalow    0\n",
       "Ranch                 0\n",
       "Residence O/S         0\n",
       "not_common_style      0\n",
       "sale_year             0\n",
       "sale_month            0\n",
       "dtype: int64"
      ]
     },
     "execution_count": 20,
     "metadata": {},
     "output_type": "execute_result"
    }
   ],
   "source": [
    "X.isna().sum()"
   ]
  },
  {
   "cell_type": "code",
   "execution_count": null,
   "metadata": {},
   "outputs": [
    {
     "name": "stdout",
     "output_type": "stream",
     "text": [
      "               Feature    Importance\n",
      "2                 Nbhd  3.330858e-01\n",
      "8                Bdrms  2.132852e-01\n",
      "9                Fbath  1.903034e-01\n",
      "28           sale_year  8.368687e-02\n",
      "6             Fin_sqft  5.276965e-02\n",
      "27    not_common_style  4.453752e-02\n",
      "11             Lotsize  2.374355e-02\n",
      "7                Units  1.734612e-02\n",
      "12          Sale_price  1.427423e-02\n",
      "3              Stories  9.987582e-03\n",
      "10               Hbath  6.574178e-03\n",
      "4           Year_Built  5.048293e-03\n",
      "25               Ranch  1.735179e-03\n",
      "22            Cape Cod  7.331164e-04\n",
      "0               Taxkey  7.118504e-04\n",
      "1             District  5.502121e-04\n",
      "13                  AV  5.195985e-04\n",
      "23            Colonial  4.678090e-04\n",
      "26       Residence O/S  3.680804e-04\n",
      "20                  ST  8.108237e-05\n",
      "14                  BL  6.753071e-05\n",
      "29          sale_month  4.943520e-05\n",
      "18                  PL  3.202772e-05\n",
      "19                  RD  2.576542e-05\n",
      "16                  DR  1.121810e-05\n",
      "21  not_common_address  3.874667e-06\n",
      "15                  CT  8.582882e-07\n",
      "5            Nr_of_rms  0.000000e+00\n",
      "17                  PK  0.000000e+00\n",
      "24  Milwaukee Bungalow  0.000000e+00\n"
     ]
    }
   ],
   "source": [
    "from sklearn.ensemble import RandomForestClassifier\n",
    "\n",
    "rf = RandomForestClassifier(random_state=42)\n",
    "rf.fit(X, y)\n",
    "\n",
    "importances = rf.feature_importances_\n",
    "importance_df = pd.DataFrame({\"Feature\": X.columns, \"Importance\": importances})\n",
    "importance_df = importance_df.sort_values(by=\"Importance\", ascending=False)\n",
    "\n",
    "print(importance_df)"
   ]
  },
  {
   "cell_type": "code",
   "execution_count": 22,
   "metadata": {},
   "outputs": [],
   "source": [
    "X = X.drop(\n",
    "    columns=[\"Milwaukee Bungalow\", \"PK\", \"Nr_of_rms\", \"CT\", \"not_common_address\"]\n",
    ")"
   ]
  },
  {
   "cell_type": "code",
   "execution_count": 23,
   "metadata": {},
   "outputs": [],
   "source": [
    "from sklearn.model_selection import train_test_split\n",
    "\n",
    "xtrain, xtest, ytrain, ytest = train_test_split(X, y, test_size=0.2, stratify=y, shuffle=True, random_state=123)"
   ]
  },
  {
   "cell_type": "code",
   "execution_count": 24,
   "metadata": {},
   "outputs": [],
   "source": [
    "from sklearn.utils import class_weight\n",
    "import numpy as np\n",
    "\n",
    "class_weights = class_weight.compute_class_weight(\n",
    "    class_weight=\"balanced\", classes=np.unique(ytrain), y=ytrain\n",
    ")\n",
    "\n",
    "class_weight_dict = dict(enumerate(class_weights))"
   ]
  },
  {
   "cell_type": "code",
   "execution_count": 25,
   "metadata": {},
   "outputs": [
    {
     "name": "stdout",
     "output_type": "stream",
     "text": [
      "Epoch 1/100\n",
      "\u001b[1m552/552\u001b[0m \u001b[32m━━━━━━━━━━━━━━━━━━━━\u001b[0m\u001b[37m\u001b[0m \u001b[1m2s\u001b[0m 2ms/step - accuracy: 0.9412 - loss: 0.2326 - val_accuracy: 0.9991 - val_loss: 0.0058\n",
      "Epoch 2/100\n",
      "\u001b[1m552/552\u001b[0m \u001b[32m━━━━━━━━━━━━━━━━━━━━\u001b[0m\u001b[37m\u001b[0m \u001b[1m1s\u001b[0m 1ms/step - accuracy: 0.9982 - loss: 0.0059 - val_accuracy: 0.9998 - val_loss: 0.0014\n",
      "Epoch 3/100\n",
      "\u001b[1m552/552\u001b[0m \u001b[32m━━━━━━━━━━━━━━━━━━━━\u001b[0m\u001b[37m\u001b[0m \u001b[1m1s\u001b[0m 1ms/step - accuracy: 0.9998 - loss: 0.0019 - val_accuracy: 0.9998 - val_loss: 8.3717e-04\n",
      "Epoch 4/100\n",
      "\u001b[1m552/552\u001b[0m \u001b[32m━━━━━━━━━━━━━━━━━━━━\u001b[0m\u001b[37m\u001b[0m \u001b[1m1s\u001b[0m 1ms/step - accuracy: 0.9999 - loss: 8.6324e-04 - val_accuracy: 0.9998 - val_loss: 7.5837e-04\n",
      "Epoch 5/100\n",
      "\u001b[1m552/552\u001b[0m \u001b[32m━━━━━━━━━━━━━━━━━━━━\u001b[0m\u001b[37m\u001b[0m \u001b[1m1s\u001b[0m 1ms/step - accuracy: 0.9996 - loss: 8.6263e-04 - val_accuracy: 0.9998 - val_loss: 4.9316e-04\n",
      "Epoch 6/100\n",
      "\u001b[1m552/552\u001b[0m \u001b[32m━━━━━━━━━━━━━━━━━━━━\u001b[0m\u001b[37m\u001b[0m \u001b[1m1s\u001b[0m 1ms/step - accuracy: 0.9998 - loss: 4.6552e-04 - val_accuracy: 0.9998 - val_loss: 4.6375e-04\n",
      "Epoch 7/100\n",
      "\u001b[1m552/552\u001b[0m \u001b[32m━━━━━━━━━━━━━━━━━━━━\u001b[0m\u001b[37m\u001b[0m \u001b[1m1s\u001b[0m 1ms/step - accuracy: 0.9997 - loss: 5.2751e-04 - val_accuracy: 1.0000 - val_loss: 1.0226e-04\n",
      "Epoch 8/100\n",
      "\u001b[1m552/552\u001b[0m \u001b[32m━━━━━━━━━━━━━━━━━━━━\u001b[0m\u001b[37m\u001b[0m \u001b[1m1s\u001b[0m 1ms/step - accuracy: 0.9999 - loss: 2.4371e-04 - val_accuracy: 1.0000 - val_loss: 1.3525e-04\n",
      "Epoch 9/100\n",
      "\u001b[1m552/552\u001b[0m \u001b[32m━━━━━━━━━━━━━━━━━━━━\u001b[0m\u001b[37m\u001b[0m \u001b[1m1s\u001b[0m 1ms/step - accuracy: 0.9998 - loss: 3.1637e-04 - val_accuracy: 1.0000 - val_loss: 2.8761e-04\n",
      "Epoch 10/100\n",
      "\u001b[1m552/552\u001b[0m \u001b[32m━━━━━━━━━━━━━━━━━━━━\u001b[0m\u001b[37m\u001b[0m \u001b[1m1s\u001b[0m 1ms/step - accuracy: 0.9997 - loss: 5.7798e-04 - val_accuracy: 1.0000 - val_loss: 7.8087e-05\n",
      "Epoch 11/100\n",
      "\u001b[1m552/552\u001b[0m \u001b[32m━━━━━━━━━━━━━━━━━━━━\u001b[0m\u001b[37m\u001b[0m \u001b[1m1s\u001b[0m 1ms/step - accuracy: 1.0000 - loss: 4.1880e-05 - val_accuracy: 1.0000 - val_loss: 2.3852e-05\n",
      "Epoch 12/100\n",
      "\u001b[1m552/552\u001b[0m \u001b[32m━━━━━━━━━━━━━━━━━━━━\u001b[0m\u001b[37m\u001b[0m \u001b[1m1s\u001b[0m 1ms/step - accuracy: 1.0000 - loss: 1.1931e-04 - val_accuracy: 1.0000 - val_loss: 5.0283e-05\n",
      "Epoch 13/100\n",
      "\u001b[1m552/552\u001b[0m \u001b[32m━━━━━━━━━━━━━━━━━━━━\u001b[0m\u001b[37m\u001b[0m \u001b[1m1s\u001b[0m 1ms/step - accuracy: 0.9998 - loss: 3.0542e-04 - val_accuracy: 1.0000 - val_loss: 2.9738e-05\n",
      "Epoch 14/100\n",
      "\u001b[1m552/552\u001b[0m \u001b[32m━━━━━━━━━━━━━━━━━━━━\u001b[0m\u001b[37m\u001b[0m \u001b[1m1s\u001b[0m 1ms/step - accuracy: 1.0000 - loss: 1.3720e-05 - val_accuracy: 1.0000 - val_loss: 7.6840e-06\n",
      "Epoch 15/100\n",
      "\u001b[1m552/552\u001b[0m \u001b[32m━━━━━━━━━━━━━━━━━━━━\u001b[0m\u001b[37m\u001b[0m \u001b[1m1s\u001b[0m 1ms/step - accuracy: 1.0000 - loss: 1.1276e-05 - val_accuracy: 1.0000 - val_loss: 1.0259e-05\n",
      "Epoch 16/100\n",
      "\u001b[1m552/552\u001b[0m \u001b[32m━━━━━━━━━━━━━━━━━━━━\u001b[0m\u001b[37m\u001b[0m \u001b[1m1s\u001b[0m 1ms/step - accuracy: 1.0000 - loss: 3.1905e-05 - val_accuracy: 1.0000 - val_loss: 5.6378e-05\n",
      "Epoch 17/100\n",
      "\u001b[1m552/552\u001b[0m \u001b[32m━━━━━━━━━━━━━━━━━━━━\u001b[0m\u001b[37m\u001b[0m \u001b[1m1s\u001b[0m 1ms/step - accuracy: 1.0000 - loss: 3.8131e-05 - val_accuracy: 1.0000 - val_loss: 6.2674e-06\n",
      "Epoch 18/100\n",
      "\u001b[1m552/552\u001b[0m \u001b[32m━━━━━━━━━━━━━━━━━━━━\u001b[0m\u001b[37m\u001b[0m \u001b[1m1s\u001b[0m 1ms/step - accuracy: 0.9999 - loss: 7.8574e-05 - val_accuracy: 1.0000 - val_loss: 2.7586e-06\n",
      "Epoch 19/100\n",
      "\u001b[1m552/552\u001b[0m \u001b[32m━━━━━━━━━━━━━━━━━━━━\u001b[0m\u001b[37m\u001b[0m \u001b[1m1s\u001b[0m 1ms/step - accuracy: 1.0000 - loss: 9.0463e-06 - val_accuracy: 1.0000 - val_loss: 5.2048e-06\n",
      "Epoch 20/100\n",
      "\u001b[1m552/552\u001b[0m \u001b[32m━━━━━━━━━━━━━━━━━━━━\u001b[0m\u001b[37m\u001b[0m \u001b[1m1s\u001b[0m 1ms/step - accuracy: 1.0000 - loss: 6.6458e-06 - val_accuracy: 1.0000 - val_loss: 2.1745e-06\n",
      "Epoch 21/100\n",
      "\u001b[1m552/552\u001b[0m \u001b[32m━━━━━━━━━━━━━━━━━━━━\u001b[0m\u001b[37m\u001b[0m \u001b[1m1s\u001b[0m 1ms/step - accuracy: 1.0000 - loss: 3.9525e-06 - val_accuracy: 1.0000 - val_loss: 2.2115e-06\n",
      "Epoch 22/100\n",
      "\u001b[1m552/552\u001b[0m \u001b[32m━━━━━━━━━━━━━━━━━━━━\u001b[0m\u001b[37m\u001b[0m \u001b[1m1s\u001b[0m 1ms/step - accuracy: 1.0000 - loss: 9.8522e-06 - val_accuracy: 1.0000 - val_loss: 1.5396e-05\n",
      "Epoch 23/100\n",
      "\u001b[1m552/552\u001b[0m \u001b[32m━━━━━━━━━━━━━━━━━━━━\u001b[0m\u001b[37m\u001b[0m \u001b[1m1s\u001b[0m 1ms/step - accuracy: 0.9998 - loss: 7.5129e-04 - val_accuracy: 1.0000 - val_loss: 3.0172e-06\n"
     ]
    },
    {
     "data": {
      "text/plain": [
       "<keras.src.callbacks.history.History at 0x27c0165d220>"
      ]
     },
     "execution_count": 25,
     "metadata": {},
     "output_type": "execute_result"
    }
   ],
   "source": [
    "from keras import layers, models, callbacks\n",
    "\n",
    "early_stopping = callbacks.EarlyStopping(\n",
    "    monitor='val_loss',\n",
    "    patience=3,\n",
    "    restore_best_weights=True\n",
    ")\n",
    "\n",
    "model = models.Sequential(\n",
    "    [\n",
    "        layers.Input(shape=(xtrain.shape[1],)),\n",
    "        layers.Dense(64, activation=\"relu\"),\n",
    "        layers.Dense(32, activation=\"relu\"),\n",
    "        layers.Dense(1, activation=\"sigmoid\"),\n",
    "    ]\n",
    ")\n",
    "\n",
    "model.compile(\n",
    "    optimizer=\"adam\",\n",
    "    loss=\"binary_crossentropy\",\n",
    "    metrics=[\"accuracy\"],\n",
    ")\n",
    "\n",
    "model.fit(\n",
    "    xtrain,\n",
    "    ytrain,\n",
    "    epochs=100,\n",
    "    batch_size=32,\n",
    "    validation_split=0.2,\n",
    "    class_weight=class_weight_dict,\n",
    "    callbacks=[early_stopping],\n",
    "    verbose=True,\n",
    ")"
   ]
  },
  {
   "cell_type": "code",
   "execution_count": null,
   "metadata": {},
   "outputs": [],
   "source": [
    "model.save(\"best_model.keras\")\n",
    "model_loaded = models.load_model(\"best_model.keras\")"
   ]
  },
  {
   "cell_type": "code",
   "execution_count": 27,
   "metadata": {},
   "outputs": [
    {
     "name": "stdout",
     "output_type": "stream",
     "text": [
      "\u001b[1m173/173\u001b[0m \u001b[32m━━━━━━━━━━━━━━━━━━━━\u001b[0m\u001b[37m\u001b[0m \u001b[1m0s\u001b[0m 927us/step - accuracy: 1.0000 - loss: 2.9719e-05\n",
      "Test loss: 0.000667207408696413\n",
      "Test accuracy: 0.9998185634613037\n"
     ]
    }
   ],
   "source": [
    "test_loss, test_accuracy = model_loaded.evaluate(xtest, ytest)\n",
    "print(f\"Test loss: {test_loss}\")\n",
    "print(f\"Test accuracy: {test_accuracy}\")"
   ]
  },
  {
   "cell_type": "code",
   "execution_count": null,
   "metadata": {},
   "outputs": [
    {
     "name": "stdout",
     "output_type": "stream",
     "text": [
      "\u001b[1m173/173\u001b[0m \u001b[32m━━━━━━━━━━━━━━━━━━━━\u001b[0m\u001b[37m\u001b[0m \u001b[1m0s\u001b[0m 731us/step\n"
     ]
    },
    {
     "data": {
      "image/png": "[encoded data removed]",
      "text/plain": [
       "<Figure size 600x600 with 1 Axes>"
      ]
     },
     "metadata": {},
     "output_type": "display_data"
    },
    {
     "data": {
      "image/png": "[encoded data removed]",
      "text/plain": [
       "<Figure size 800x600 with 1 Axes>"
      ]
     },
     "metadata": {},
     "output_type": "display_data"
    }
   ],
   "source": [
    "from sklearn.metrics import confusion_matrix, roc_curve, auc\n",
    "import matplotlib.pyplot as plt\n",
    "import seaborn as sns\n",
    "\n",
    "y_pred = model_loaded.predict(xtest)\n",
    "y_pred_class = (y_pred > 0.5).astype(\"int32\")\n",
    "\n",
    "conf_matrix = confusion_matrix(ytest, y_pred_class)\n",
    "plt.figure(figsize=(6, 6))\n",
    "sns.heatmap(conf_matrix, annot=True, fmt=\"d\", cmap=\"Blues\", cbar=False, xticklabels=[0, 1], yticklabels=[0, 1])\n",
    "plt.xlabel('Predicted Label')\n",
    "plt.ylabel('True Label')\n",
    "plt.title('Confusion Matrix')\n",
    "plt.show()\n",
    "\n",
    "fpr, tpr, thresholds = roc_curve(ytest, y_pred)\n",
    "roc_auc = auc(fpr, tpr)\n",
    "plt.figure(figsize=(8, 6))\n",
    "plt.plot(fpr, tpr, color='blue', lw=2, label=f'ROC curve (area = {roc_auc:.2f})')\n",
    "plt.plot([0, 1], [0, 1], color='gray', lw=2, linestyle='--')\n",
    "plt.xlabel('False Positive Rate')\n",
    "plt.ylabel('True Positive Rate (Sensitivity)')\n",
    "plt.title('Receiver Operating Characteristic (ROC) Curve')\n",
    "plt.legend(loc='lower right')\n",
    "plt.show()"
   ]
  }
 ],
 "metadata": {
  "kernelspec": {
   "display_name": ".venv",
   "language": "python",
   "name": "python3"
  },
  "language_info": {
   "codemirror_mode": {
    "name": "ipython",
    "version": 3
   },
   "file_extension": ".py",
   "mimetype": "text/x-python",
   "name": "python",
   "nbconvert_exporter": "python",
   "pygments_lexer": "ipython3",
   "version": "3.12.6"
  }
 },
 "nbformat": 4,
 "nbformat_minor": 2
}
